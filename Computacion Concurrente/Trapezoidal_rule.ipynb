{
 "cells": [
  {
   "cell_type": "code",
   "execution_count": 32,
   "id": "0cc8a208",
   "metadata": {},
   "outputs": [
    {
     "data": {
      "text/plain": [
       "f (generic function with 1 method)"
      ]
     },
     "execution_count": 32,
     "metadata": {},
     "output_type": "execute_result"
    }
   ],
   "source": [
    "function f(x)\n",
    "    return x^3 + 2*(x^2) - x + 1\n",
    "end"
   ]
  },
  {
   "cell_type": "code",
   "execution_count": 36,
   "id": "24d24205",
   "metadata": {},
   "outputs": [
    {
     "data": {
      "text/plain": [
       "trap_rule (generic function with 1 method)"
      ]
     },
     "execution_count": 36,
     "metadata": {},
     "output_type": "execute_result"
    }
   ],
   "source": [
    "function trap_rule(f,a,b,n) \n",
    "    h = (b-a)/n\n",
    "    int = 0\n",
    "    for k=1:n-1\n",
    "        if k==1\n",
    "            int = f(a)\n",
    "        else\n",
    "            int = int + 2*f(a+k*h)\n",
    "        end\n",
    "    end\n",
    "    return h/2*(int + f(b)) \n",
    "end"
   ]
  },
  {
   "cell_type": "code",
   "execution_count": 38,
   "id": "1ba45e59",
   "metadata": {
    "scrolled": false
   },
   "outputs": [
    {
     "name": "stdout",
     "output_type": "stream",
     "text": [
      "7.817961692810059\n",
      "7.868572175502777\n",
      "7.8848775110127\n",
      "7.892926689237356\n",
      "7.904872596031055\n",
      "7.910788498804322\n",
      "7.913732285610422\n"
     ]
    }
   ],
   "source": [
    "for i in [32,64,96,128,256,512,1024]\n",
    "    println(trap_rule(f,1,2,i))\n",
    "end"
   ]
  },
  {
   "cell_type": "code",
   "execution_count": 41,
   "id": "9713c15f",
   "metadata": {},
   "outputs": [],
   "source": [
    "using BenchmarkTools"
   ]
  },
  {
   "cell_type": "code",
   "execution_count": 42,
   "id": "8645ace9",
   "metadata": {},
   "outputs": [
    {
     "data": {
      "text/plain": [
       "BenchmarkTools.Trial: 10000 samples with 1 evaluation.\n",
       " Range \u001b[90m(\u001b[39m\u001b[36m\u001b[1mmin\u001b[22m\u001b[39m … \u001b[35mmax\u001b[39m\u001b[90m):  \u001b[39m\u001b[36m\u001b[1m31.033 μs\u001b[22m\u001b[39m … \u001b[35m151.802 μs\u001b[39m  \u001b[90m┊\u001b[39m GC \u001b[90m(\u001b[39mmin … max\u001b[90m): \u001b[39m0.00% … 0.00%\n",
       " Time  \u001b[90m(\u001b[39m\u001b[34m\u001b[1mmedian\u001b[22m\u001b[39m\u001b[90m):     \u001b[39m\u001b[34m\u001b[1m32.387 μs               \u001b[22m\u001b[39m\u001b[90m┊\u001b[39m GC \u001b[90m(\u001b[39mmedian\u001b[90m):    \u001b[39m0.00%\n",
       " Time  \u001b[90m(\u001b[39m\u001b[32m\u001b[1mmean\u001b[22m\u001b[39m ± \u001b[32mσ\u001b[39m\u001b[90m):   \u001b[39m\u001b[32m\u001b[1m32.921 μs\u001b[22m\u001b[39m ± \u001b[32m  3.564 μs\u001b[39m  \u001b[90m┊\u001b[39m GC \u001b[90m(\u001b[39mmean ± σ\u001b[90m):  \u001b[39m0.00% ± 0.00%\n",
       "\n",
       "  \u001b[39m▄\u001b[39m \u001b[39m▇\u001b[39m \u001b[39m \u001b[39m█\u001b[34m \u001b[39m\u001b[39m \u001b[32m \u001b[39m\u001b[39m \u001b[39m \u001b[39m \u001b[39m \u001b[39m \u001b[39m \u001b[39m \u001b[39m▁\u001b[39m \u001b[39m \u001b[39m▂\u001b[39m \u001b[39m \u001b[39m \u001b[39m \u001b[39m \u001b[39m \u001b[39m \u001b[39m \u001b[39m \u001b[39m \u001b[39m▂\u001b[39m \u001b[39m \u001b[39m▂\u001b[39m \u001b[39m \u001b[39m \u001b[39m▃\u001b[39m \u001b[39m \u001b[39m \u001b[39m \u001b[39m \u001b[39m \u001b[39m \u001b[39m \u001b[39m \u001b[39m \u001b[39m \u001b[39m \u001b[39m \u001b[39m \u001b[39m▂\u001b[39m \u001b[39m \u001b[39m \u001b[39m \u001b[39m \u001b[39m \u001b[39m \u001b[39m \u001b[39m▂\n",
       "  \u001b[39m█\u001b[39m▃\u001b[39m█\u001b[39m▁\u001b[39m▃\u001b[39m█\u001b[34m▁\u001b[39m\u001b[39m▁\u001b[32m▆\u001b[39m\u001b[39m▅\u001b[39m▆\u001b[39m█\u001b[39m▄\u001b[39m▆\u001b[39m█\u001b[39m▄\u001b[39m█\u001b[39m▃\u001b[39m▁\u001b[39m█\u001b[39m▁\u001b[39m▁\u001b[39m▃\u001b[39m▁\u001b[39m▃\u001b[39m▃\u001b[39m▃\u001b[39m▃\u001b[39m▄\u001b[39m▅\u001b[39m█\u001b[39m▄\u001b[39m▁\u001b[39m█\u001b[39m▁\u001b[39m▁\u001b[39m▁\u001b[39m█\u001b[39m▁\u001b[39m▃\u001b[39m▄\u001b[39m▄\u001b[39m▄\u001b[39m▄\u001b[39m▁\u001b[39m▅\u001b[39m▅\u001b[39m▄\u001b[39m▄\u001b[39m▃\u001b[39m▁\u001b[39m▃\u001b[39m█\u001b[39m▁\u001b[39m▃\u001b[39m█\u001b[39m▃\u001b[39m▁\u001b[39m▃\u001b[39m▇\u001b[39m \u001b[39m█\n",
       "  31 μs\u001b[90m         \u001b[39m\u001b[90mHistogram: \u001b[39m\u001b[90m\u001b[1mlog(\u001b[22m\u001b[39m\u001b[90mfrequency\u001b[39m\u001b[90m\u001b[1m)\u001b[22m\u001b[39m\u001b[90m by time\u001b[39m      45.6 μs \u001b[0m\u001b[1m<\u001b[22m\n",
       "\n",
       " Memory estimate\u001b[90m: \u001b[39m\u001b[33m0 bytes\u001b[39m, allocs estimate\u001b[90m: \u001b[39m\u001b[33m0\u001b[39m."
      ]
     },
     "execution_count": 42,
     "metadata": {},
     "output_type": "execute_result"
    }
   ],
   "source": [
    "@benchmark trap_rule(f,1,2,10000)"
   ]
  },
  {
   "cell_type": "code",
   "execution_count": 43,
   "id": "ea1cb64c",
   "metadata": {},
   "outputs": [
    {
     "data": {
      "text/html": [
       "trap_rule(f, a, b, n) in Main at In[36]:1"
      ],
      "text/plain": [
       "trap_rule(f, a, b, n) in Main at In[36]:1"
      ]
     },
     "execution_count": 43,
     "metadata": {},
     "output_type": "execute_result"
    }
   ],
   "source": [
    "@which trap_rule(f,1,2,10000)"
   ]
  },
  {
   "cell_type": "code",
   "execution_count": 45,
   "id": "eacb816d",
   "metadata": {
    "scrolled": true
   },
   "outputs": [
    {
     "data": {
      "text/plain": [
       "10000-element Vector{Float64}:\n",
       " 35794.0\n",
       " 34402.0\n",
       " 34369.0\n",
       " 34368.0\n",
       " 34370.0\n",
       " 34370.0\n",
       " 34358.0\n",
       " 34363.0\n",
       " 34373.0\n",
       " 34368.0\n",
       " 34363.0\n",
       " 34367.0\n",
       " 34368.0\n",
       "     ⋮\n",
       " 33795.0\n",
       " 33776.0\n",
       " 33800.0\n",
       " 33782.0\n",
       " 33259.0\n",
       " 33781.0\n",
       " 33811.0\n",
       " 33187.0\n",
       " 33820.0\n",
       " 33317.0\n",
       " 42265.0\n",
       " 33451.0"
      ]
     },
     "execution_count": 45,
     "metadata": {},
     "output_type": "execute_result"
    }
   ],
   "source": [
    "j_bench = @benchmark trap_rule(f,1,2,10000) # guarda estructura de datos\n",
    "j_bench.times"
   ]
  }
 ],
 "metadata": {
  "kernelspec": {
   "display_name": "Julia 1.8.2",
   "language": "julia",
   "name": "julia-1.8"
  },
  "language_info": {
   "file_extension": ".jl",
   "mimetype": "application/julia",
   "name": "julia",
   "version": "1.8.2"
  }
 },
 "nbformat": 4,
 "nbformat_minor": 5
}
