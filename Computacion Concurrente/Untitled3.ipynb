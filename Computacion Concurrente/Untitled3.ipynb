{
 "cells": [
  {
   "cell_type": "code",
   "execution_count": 1,
   "id": "e5a34aa8",
   "metadata": {},
   "outputs": [],
   "source": [
    "import threading\n",
    "import time\n",
    "import multiprocessing as mp"
   ]
  },
  {
   "cell_type": "code",
   "execution_count": 2,
   "id": "d954a47c",
   "metadata": {},
   "outputs": [
    {
     "name": "stdout",
     "output_type": "stream",
     "text": [
      "Inicialmente tienes $0, ¿cuánto deseas abonar?\n",
      "0\n",
      "El cliente solicita la transacción 1.\n",
      "El cliente solicita la transacción 2.\n",
      "\n",
      "\n",
      "Tú depositaste: $1 en la transaccion 1. Ahora tienes: $1 :))\n",
      "\n",
      "El cliente solicita la transacción 3.\n",
      "\n",
      "Tienes menor cantidad ($1) de la que quieres retirar ($20). Aún no se puede completar la transacción 3.\n",
      "\n",
      "Tú depositaste: $4 en la transaccion 2. Ahora tienes: $5 :))\n",
      "El cliente solicita la transacción 4.\n",
      "\n",
      "\n",
      "Tienes menor cantidad ($5) de la que quieres retirar ($22). Aún no se puede completar la transacción 4.\n",
      "\n",
      "Tienes menor cantidad ($5) de la que quieres retirar ($20). Aún no se puede completar la transacción 3.\n",
      "\n",
      "El cliente solicita la transacción 5.\n",
      "\n",
      "Tú depositaste: $150 en la transaccion 5. Ahora tienes: $155 :))\n",
      "\n",
      "Tú retiraste: $20 en la transaccion 3. Ahora tienes: $135 :(\n",
      "\n",
      "Tú retiraste: $22 en la transaccion 4. Ahora tienes: $113 :(\n",
      "\n"
     ]
    }
   ],
   "source": [
    "class Monitor_Bank():\n",
    "  def __init__(self,balance,condition,amount,indice):\n",
    "    self.balance = balance\n",
    "    self.cv = condition\n",
    "    self.amount = amount\n",
    "    self.indice = indice\n",
    "\n",
    "  def Withdraw(self):\n",
    "    print(f'El cliente solicita la transacción {self.indice}.\\n')\n",
    "    with self.cv:\n",
    "      while balance.value < self.amount:\n",
    "        print(f'Tienes menor cantidad (${balance.value}) de la que quieres retirar (${self.amount}). Aún no se puede completar la transacción {self.indice}.\\n')\n",
    "        self.cv.wait()\n",
    "      balance.value = balance.value - self.amount\n",
    "      print(f'Tú retiraste: ${self.amount} en la transaccion {self.indice}. Ahora tienes: ${balance.value} :(\\n')\n",
    "      self.cv.notifyAll()\n",
    "\n",
    "  def Deposit(self):\n",
    "    print(f'El cliente solicita la transacción {self.indice}.\\n')\n",
    "    with self.cv:\n",
    "      balance.value = balance.value + self.amount\n",
    "      print(f'Tú depositaste: ${self.amount} en la transaccion {self.indice}. Ahora tienes: ${balance.value} :))\\n')\n",
    "      self.cv.notifyAll()\n",
    "\n",
    "if __name__ == '__main__':\n",
    "  condition = threading.Condition()\n",
    "  balance_initial = int(input('Inicialmente tienes $0, ¿cuánto deseas abonar?\\n'))\n",
    "  balance = mp.Value('i',balance_initial) \n",
    "\n",
    "  transac1 = threading.Thread(name='deposito1', target=Monitor_Bank(balance,condition,1,1).Deposit, args=())\n",
    "  transac2 = threading.Thread(name='deposito2', target=Monitor_Bank(balance,condition,4,2).Deposit, args=())\n",
    "  transac3 = threading.Thread(name='retiro1', target=Monitor_Bank(balance,condition,20,3).Withdraw, args=())\n",
    "  transac4 = threading.Thread(name='retiro2', target=Monitor_Bank(balance,condition,22,4).Withdraw, args=())\n",
    "  transac5 = threading.Thread(name='deposito3', target=Monitor_Bank(balance,condition,150,5).Deposit, args=())\n",
    "\n",
    "  transac1.start()\n",
    "  \n",
    "  transac2.start()\n",
    "  \n",
    "  transac3.start()\n",
    "  \n",
    "  transac4.start()\n",
    "  \n",
    "  transac5.start()"
   ]
  },
  {
   "cell_type": "code",
   "execution_count": null,
   "id": "cf3dd7c1",
   "metadata": {},
   "outputs": [],
   "source": []
  }
 ],
 "metadata": {
  "kernelspec": {
   "display_name": "Python 3 (ipykernel)",
   "language": "python",
   "name": "python3"
  },
  "language_info": {
   "codemirror_mode": {
    "name": "ipython",
    "version": 3
   },
   "file_extension": ".py",
   "mimetype": "text/x-python",
   "name": "python",
   "nbconvert_exporter": "python",
   "pygments_lexer": "ipython3",
   "version": "3.8.12"
  }
 },
 "nbformat": 4,
 "nbformat_minor": 5
}
